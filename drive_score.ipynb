{
 "cells": [
  {
   "cell_type": "code",
   "execution_count": 28,
   "id": "d69c5e58-5d55-43ad-8097-50eeb864645b",
   "metadata": {},
   "outputs": [
    {
     "name": "stdout",
     "output_type": "stream",
     "text": [
      "[ 0.         67.78628977 61.3206762  ... 99.46613071 99.36210497\n",
      " 98.39612751]\n",
      "Mean Squared Error: 0.00\n",
      "Predicted Scores: [99.99999998 99.10556789 99.55278431 99.19999934 99.19999934]\n"
     ]
    }
   ],
   "source": [
    "import joblib\n",
    "\n",
    "# Save the model to a file\n",
    "joblib.dump(model, 'drive_score.pkl')\n",
    "import numpy as np\n",
    "import pandas as pd\n",
    "from sklearn.model_selection import train_test_split\n",
    "from sklearn.ensemble import RandomForestRegressor\n",
    "from sklearn.metrics import mean_squared_error\n",
    "\n",
    "# Load the dataset\n",
    "df = pd.read_csv('full_data_carla.csv')\n",
    "\n",
    "# Calculate jerk (rate of change of acceleration)\n",
    "df['jerk'] = np.sqrt(df['accelX'].diff()**2 + df['accelY'].diff()**2 + df['accelZ'].diff()**2).fillna(0)\n",
    "\n",
    "# Calculate sharp turns from gyroscope data\n",
    "df['sharp_turn'] = (np.abs(df['gyroZ']) > 1).astype(int)\n",
    "\n",
    "# Simulate a score for training (adjust this according to your actual data)\n",
    "df['score'] = 100 - (df['jerk'] * 10 + df['sharp_turn'] * 30).clip(0, 100)\n",
    "\n",
    "# Split data into features and target\n",
    "X = df[['jerk', 'sharp_turn']]\n",
    "y = df['score']\n",
    "\n",
    "# Split data into training and testing sets\n",
    "X_train, X_test, y_train, y_test = train_test_split(X, y, test_size=0.2, random_state=42)\n",
    "\n",
    "# Initialize and train the RandomForest model\n",
    "model = RandomForestRegressor(n_estimators=100, random_state=42)\n",
    "model.fit(X_train, y_train)\n",
    "\n",
    "# Evaluate the model\n",
    "y_pred = model.predict(X_test)\n",
    "print(y_pred)\n",
    "mse = mean_squared_error(y_test, y_pred)\n",
    "print(f\"Mean Squared Error: {mse:.2f}\")\n",
    "\n",
    "# Predicting scores using the model\n",
    "predicted_scores = model.predict(X)\n",
    "print(f\"Predicted Scores: {predicted_scores[:5]}\")\n"
   ]
  },
  {
   "cell_type": "code",
   "execution_count": null,
   "id": "ef7436be-ff5f-43f1-9f41-b1eddc5d96dd",
   "metadata": {},
   "outputs": [],
   "source": []
  }
 ],
 "metadata": {
  "kernelspec": {
   "display_name": "Python 3 (ipykernel)",
   "language": "python",
   "name": "python3"
  },
  "language_info": {
   "codemirror_mode": {
    "name": "ipython",
    "version": 3
   },
   "file_extension": ".py",
   "mimetype": "text/x-python",
   "name": "python",
   "nbconvert_exporter": "python",
   "pygments_lexer": "ipython3",
   "version": "3.10.14"
  }
 },
 "nbformat": 4,
 "nbformat_minor": 5
}
